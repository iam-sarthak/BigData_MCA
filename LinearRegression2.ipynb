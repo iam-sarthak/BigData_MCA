{
  "nbformat": 4,
  "nbformat_minor": 0,
  "metadata": {
    "colab": {
      "provenance": [],
      "authorship_tag": "ABX9TyN3kHKG1SMQbg7tQIfUNGCq",
      "include_colab_link": true
    },
    "kernelspec": {
      "name": "python3",
      "display_name": "Python 3"
    },
    "language_info": {
      "name": "python"
    }
  },
  "cells": [
    {
      "cell_type": "markdown",
      "metadata": {
        "id": "view-in-github",
        "colab_type": "text"
      },
      "source": [
        "<a href=\"https://colab.research.google.com/github/iam-sarthak/BigData_MCA/blob/main/LinearRegression2.ipynb\" target=\"_parent\"><img src=\"https://colab.research.google.com/assets/colab-badge.svg\" alt=\"Open In Colab\"/></a>"
      ]
    },
    {
      "cell_type": "code",
      "execution_count": 9,
      "metadata": {
        "id": "lTJfKzCUFYrR"
      },
      "outputs": [],
      "source": [
        "x = [3,5,7,3,5,57,6,8,56,45,353,5,465,76,5]\n",
        "y = [35,53,43,45,8,24,76,3,256,25,87,23,75,24,84]\n",
        "\n",
        "sumx = sum(x)\n",
        "sumy = sum(y)\n",
        "\n",
        "xy = 0\n",
        "for i in range(len(x)):\n",
        "  xy += x[i] * y[i]\n",
        "\n",
        "x_2 = 0\n",
        "for i in range(len(x)):\n",
        "  x_2 += x[i] * x[i]\n",
        "\n",
        "\n",
        "# b = (sum(x,y) - sum(x) * sum(y) / sum(x^2) - (sum(x)**2))\n",
        "\n",
        "b = (xy - (sumx * sumy))/(x_2 - (sumx**2))\n",
        "# y = bx + a\n",
        "a = (sumy/len(y)) - (b *(sumx/len(x)))\n",
        "def mylinearmodel(x):\n",
        "  return (b*x+a)\n"
      ]
    },
    {
      "cell_type": "code",
      "source": [
        "NewX =[6,7,8,3,1,9,16,5,9,9,6,8,14,8,5]\n",
        "ypred = []\n",
        "for i in NewX:\n",
        "  ans = mylinearmodel(i)\n",
        "  ypred.append(ans)\n",
        "print(ans)"
      ],
      "metadata": {
        "colab": {
          "base_uri": "https://localhost:8080/"
        },
        "id": "i6bnITXI1iAf",
        "outputId": "01f1a907-c201-48f2-a8dc-ac2ce714be06"
      },
      "execution_count": 11,
      "outputs": [
        {
          "output_type": "stream",
          "name": "stdout",
          "text": [
            "-11.477252924878648\n"
          ]
        }
      ]
    }
  ]
}