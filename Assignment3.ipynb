{
  "nbformat": 4,
  "nbformat_minor": 0,
  "metadata": {
    "colab": {
      "provenance": [],
      "authorship_tag": "ABX9TyONemj9cbVo+/CB3v1+rxLs",
      "include_colab_link": true
    },
    "kernelspec": {
      "name": "python3",
      "display_name": "Python 3"
    },
    "language_info": {
      "name": "python"
    }
  },
  "cells": [
    {
      "cell_type": "markdown",
      "metadata": {
        "id": "view-in-github",
        "colab_type": "text"
      },
      "source": [
        "<a href=\"https://colab.research.google.com/github/iam-sarthak/BigData_MCA/blob/main/Assignment3.ipynb\" target=\"_parent\"><img src=\"https://colab.research.google.com/assets/colab-badge.svg\" alt=\"Open In Colab\"/></a>"
      ]
    },
    {
      "cell_type": "code",
      "execution_count": 1,
      "metadata": {
        "colab": {
          "base_uri": "https://localhost:8080/"
        },
        "id": "PRYvYZnf3kcY",
        "outputId": "7dcc27e7-2b1d-40ad-fc16-31ed3f1ab71d"
      },
      "outputs": [
        {
          "output_type": "stream",
          "name": "stdout",
          "text": [
            "   Tid Refund Marital Status  Taxable Income Cheat\n",
            "0    1    yes        married          125000    no\n",
            "1    2     no         single          100000    no\n",
            "2    3     no        married           70000   yes\n",
            "3    4    yes         single          120000    no\n",
            "4    5     no       divorced           95000   yes\n",
            "5    6     no        married           60000    no\n",
            "6    7    yes       divorced          220000    no\n",
            "7    8     no         single           85000   yes\n",
            "8    9     no        married           75000    no\n",
            "9   10     no         single           90000   yes\n"
          ]
        }
      ],
      "source": [
        "import pandas as pd\n",
        "\n",
        "data = {\n",
        "    'Tid': [1, 2, 3, 4, 5,6,7,8,9,10],\n",
        "    'Refund': ['yes', 'no', 'no', 'yes', 'no','no','yes','no','no','no'],\n",
        "    'Marital Status': ['married', 'single', 'married', 'single', 'divorced','married','divorced','single','married','single'],\n",
        "    'Taxable Income': [125000, 100000, 70000, 120000, 95000,60000,220000,85000,75000,90000],\n",
        "    'Cheat': ['no', 'no', 'yes', 'no', 'yes','no','no','yes','no','yes']\n",
        "}\n",
        "\n",
        "df = pd.DataFrame(data)\n",
        "\n",
        "print(df)\n"
      ]
    },
    {
      "cell_type": "code",
      "source": [
        "rows = df.iloc[[0, 4, 7, 8]]\n",
        "print(rows)"
      ],
      "metadata": {
        "colab": {
          "base_uri": "https://localhost:8080/"
        },
        "id": "IGCU-kiE4wNh",
        "outputId": "beb2c071-de8e-415e-8691-081b5fb3cbc2"
      },
      "execution_count": 2,
      "outputs": [
        {
          "output_type": "stream",
          "name": "stdout",
          "text": [
            "   Tid Refund Marital Status  Taxable Income Cheat\n",
            "0    1    yes        married          125000    no\n",
            "4    5     no       divorced           95000   yes\n",
            "7    8     no         single           85000   yes\n",
            "8    9     no        married           75000    no\n"
          ]
        }
      ]
    },
    {
      "cell_type": "code",
      "source": [
        "df2 = pd.read_csv('https://github.com/AnjulaMehto/MCA/blob/main/company_sales_data.csv?raw=true')\n",
        "print(df2)"
      ],
      "metadata": {
        "colab": {
          "base_uri": "https://localhost:8080/"
        },
        "id": "7o-Rc-M24yHO",
        "outputId": "509a3a7f-353f-4196-8f0e-4bdf7bf18842"
      },
      "execution_count": 4,
      "outputs": [
        {
          "output_type": "stream",
          "name": "stdout",
          "text": [
            "    month_number  facecream  facewash  toothpaste  bathingsoap  shampoo  \\\n",
            "0              1       2500      1500        5200         9200     1200   \n",
            "1              2       2630      1200        5100         6100     2100   \n",
            "2              3       2140      1340        4550         9550     3550   \n",
            "3              4       3400      1130        5870         8870     1870   \n",
            "4              5       3600      1740        4560         7760     1560   \n",
            "5              6       2760      1555        4890         7490     1890   \n",
            "6              7       2980      1120        4780         8980     1780   \n",
            "7              8       3700      1400        5860         9960     2860   \n",
            "8              9       3540      1780        6100         8100     2100   \n",
            "9             10       1990      1890        8300        10300     2300   \n",
            "10            11       2340      2100        7300        13300     2400   \n",
            "11            12       2900      1760        7400        14400     1800   \n",
            "\n",
            "    moisturizer  total_units  total_profit  \n",
            "0          1500        21100        211000  \n",
            "1          1200        18330        183300  \n",
            "2          1340        22470        224700  \n",
            "3          1130        22270        222700  \n",
            "4          1740        20960        209600  \n",
            "5          1555        20140        201400  \n",
            "6          1120        29550        295500  \n",
            "7          1400        36140        361400  \n",
            "8          1780        23400        234000  \n",
            "9          1890        26670        266700  \n",
            "10         2100        41280        412800  \n",
            "11         1760        30020        300200  \n"
          ]
        }
      ]
    }
  ]
}