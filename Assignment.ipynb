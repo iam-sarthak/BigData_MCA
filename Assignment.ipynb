{
  "nbformat": 4,
  "nbformat_minor": 0,
  "metadata": {
    "colab": {
      "provenance": [],
      "authorship_tag": "ABX9TyNH0lopzlh3argvEvTH2EV3",
      "include_colab_link": true
    },
    "kernelspec": {
      "name": "python3",
      "display_name": "Python 3"
    },
    "language_info": {
      "name": "python"
    }
  },
  "cells": [
    {
      "cell_type": "markdown",
      "metadata": {
        "id": "view-in-github",
        "colab_type": "text"
      },
      "source": [
        "<a href=\"https://colab.research.google.com/github/iam-sarthak/BigData_MCA/blob/main/Assignment.ipynb\" target=\"_parent\"><img src=\"https://colab.research.google.com/assets/colab-badge.svg\" alt=\"Open In Colab\"/></a>"
      ]
    },
    {
      "cell_type": "code",
      "execution_count": 2,
      "metadata": {
        "colab": {
          "base_uri": "https://localhost:8080/"
        },
        "id": "OYTUxcfycj6J",
        "outputId": "159725da-88e0-4b00-9e3d-1d424aabe744"
      },
      "outputs": [
        {
          "output_type": "stream",
          "name": "stdout",
          "text": [
            "ans [5 4 6 3 2 1]\n"
          ]
        }
      ],
      "source": [
        "import numpy as np\n",
        "array = np.array([1, 2, 3, 6, 4, 5])\n",
        "\n",
        "res = np.flip(array)\n",
        "\n",
        "# printing result\n",
        "print(\"ans\", str(res))"
      ]
    },
    {
      "cell_type": "code",
      "source": [
        "array = np.array([[1, 2], [3, 4]])\n",
        "arr = np.array([[1, 2], [3, 4]])\n",
        "\n",
        "comparison = array == arr\n",
        "rarrays = comparison.all()\n",
        "\n",
        "print(rarrays)"
      ],
      "metadata": {
        "colab": {
          "base_uri": "https://localhost:8080/"
        },
        "id": "4iRjnSDxcszd",
        "outputId": "897a8f1f-5cbc-4143-9dc4-376c4588d600"
      },
      "execution_count": 3,
      "outputs": [
        {
          "output_type": "stream",
          "name": "stdout",
          "text": [
            "True\n"
          ]
        }
      ]
    },
    {
      "cell_type": "code",
      "source": [
        "arr = np.array([1,2,2,3,4,3,5])\n",
        "print(\"array:\")\n",
        "print(arr)\n",
        "\n",
        "print(\"Most frequent value in array:\")\n",
        "print(np.bincount(arr).argmax())"
      ],
      "metadata": {
        "colab": {
          "base_uri": "https://localhost:8080/"
        },
        "id": "fYKaVXJcdD_t",
        "outputId": "65b29499-d4d6-43a3-83ee-a32f458de85b"
      },
      "execution_count": 4,
      "outputs": [
        {
          "output_type": "stream",
          "name": "stdout",
          "text": [
            "array:\n",
            "[1 2 2 3 4 3 5]\n",
            "Most frequent value in array:\n",
            "2\n"
          ]
        }
      ]
    },
    {
      "cell_type": "code",
      "source": [
        "arr = np.matrix('[4, 1, 9; 12, 3, 1; 4, 5, 6]')\n",
        "total_sum = np.sum(arr)\n",
        "rows = np.sum(arr, axis=1)\n",
        "\n",
        "cols = np.sum(arr, axis=0)\n",
        "\n",
        "print(\"Matrix:\")\n",
        "print(arr)\n",
        "\n",
        "print(\"\\ni. Sum of all elements:\", total_sum)\n",
        "\n",
        "print(\"\\nii. Sum of all elements row-wise:\")\n",
        "print(rows)\n",
        "\n",
        "print(\"\\niii. Sum of all elements column-wise:\")\n",
        "print(cols)"
      ],
      "metadata": {
        "colab": {
          "base_uri": "https://localhost:8080/"
        },
        "id": "up_l9_PedSJJ",
        "outputId": "a4169077-b909-441b-8a6e-2cb369a43915"
      },
      "execution_count": 5,
      "outputs": [
        {
          "output_type": "stream",
          "name": "stdout",
          "text": [
            "Matrix:\n",
            "[[ 4  1  9]\n",
            " [12  3  1]\n",
            " [ 4  5  6]]\n",
            "\n",
            "i. Sum of all elements: 45\n",
            "\n",
            "ii. Sum of all elements row-wise:\n",
            "[[14]\n",
            " [16]\n",
            " [15]]\n",
            "\n",
            "iii. Sum of all elements column-wise:\n",
            "[[20  9 16]]\n"
          ]
        }
      ]
    },
    {
      "cell_type": "code",
      "source": [],
      "metadata": {
        "id": "XE31RIWJdZzn"
      },
      "execution_count": null,
      "outputs": []
    },
    {
      "cell_type": "markdown",
      "source": [],
      "metadata": {
        "id": "hNi5RoFDdaNX"
      }
    }
  ]
}